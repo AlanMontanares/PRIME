{
 "cells": [
  {
   "cell_type": "code",
   "execution_count": 6,
   "metadata": {},
   "outputs": [],
   "source": [
    "import numpy as np\n",
    "from sklearn.model_selection import StratifiedKFold"
   ]
  },
  {
   "cell_type": "markdown",
   "metadata": {},
   "source": [
    "### KFolds"
   ]
  },
  {
   "cell_type": "code",
   "execution_count": 7,
   "metadata": {},
   "outputs": [],
   "source": [
    "#===============================#\n",
    "#==========PAN-STARRS===========#\n",
    "#===============================#\n",
    "\n",
    "train = np.load(\"datasets\\ps1_train_48.npz\", allow_pickle=True)\n",
    "val = np.load(\"datasets\\ps1_val_48.npz\", allow_pickle=True)\n",
    "test = np.load(\"datasets\\ps1_test_48.npz\", allow_pickle=True)\n"
   ]
  },
  {
   "cell_type": "code",
   "execution_count": null,
   "metadata": {},
   "outputs": [],
   "source": [
    "#===============================#\n",
    "#===============SDSS============#\n",
    "#===============================#\n",
    "\n",
    "train = np.load(\"datasets\\h2f_multiresolution_train_n5.npz\", allow_pickle=True)\n",
    "val = np.load(\"datasets\\h2f_multiresolution_val_n5.npz\", allow_pickle=True)\n",
    "test = np.load(\"datasets\\h2f_multiresolution_test_n5.npz\", allow_pickle=True)"
   ]
  },
  {
   "cell_type": "code",
   "execution_count": 8,
   "metadata": {},
   "outputs": [],
   "source": [
    "range_z = np.linspace(0, 0.4, 181)[:-1]\n",
    "\n",
    "z_train_class = np.array(np.digitize(train[\"metadata\"].item()[\"z\"].values,range_z)-1)\n",
    "\n",
    "del train\n",
    "\n",
    "z_val_class = np.array(np.digitize(val[\"metadata\"].item()[\"z\"].values,range_z)-1)\n",
    "\n",
    "del val\n",
    "\n",
    "z_test_class = np.array(np.digitize(test[\"metadata\"].item()[\"z\"].values,range_z)-1)\n",
    "\n",
    "del test"
   ]
  },
  {
   "cell_type": "code",
   "execution_count": 9,
   "metadata": {},
   "outputs": [],
   "source": [
    "full_z_class = np.concatenate([z_train_class, z_val_class,z_test_class])\n",
    "full_idxs = np.arange(len(full_z_class))"
   ]
  },
  {
   "cell_type": "code",
   "execution_count": 9,
   "metadata": {},
   "outputs": [
    {
     "name": "stderr",
     "output_type": "stream",
     "text": [
      "c:\\Users\\Legers\\kfolds_splits\\env_kfolds\\lib\\site-packages\\sklearn\\model_selection\\_split.py:776: UserWarning: The least populated class in y has only 1 members, which is less than n_splits=5.\n",
      "  warnings.warn(\n"
     ]
    }
   ],
   "source": [
    "skf = StratifiedKFold(n_splits=5, shuffle=True, random_state=0)\n",
    "skf.get_n_splits(full_idxs,full_z_class)\n",
    "\n",
    "train_idxs = []\n",
    "test_idxs =[]\n",
    "\n",
    "for i, (train_index, test_index) in enumerate(skf.split(full_idxs, full_z_class)):\n",
    "    train_idxs.append(train_index)\n",
    "    test_idxs.append(test_index)\n",
    "\n",
    "    #print(f\"Fold {i}:\")\n",
    "    #print(f\"  Train: index={train_index}\")\n",
    "    #print(f\"  Test:  index={test_index}\")"
   ]
  },
  {
   "cell_type": "code",
   "execution_count": 10,
   "metadata": {},
   "outputs": [],
   "source": [
    "dictado ={}\n",
    "\n",
    "dictado[\"train_idxs\"]  =train_idxs\n",
    "dictado[\"test_idxs\"]  =test_idxs\n",
    "\n",
    "np.save(\"last_kfolds_idxs_ps1.npy\", dictado)"
   ]
  },
  {
   "cell_type": "markdown",
   "metadata": {},
   "source": [
    "### KFolds de epocas"
   ]
  },
  {
   "cell_type": "code",
   "execution_count": 10,
   "metadata": {},
   "outputs": [],
   "source": [
    "folds = np.load(\"last_kfolds_idxs_ps1.npy\",allow_pickle=True).item()"
   ]
  },
  {
   "cell_type": "code",
   "execution_count": 11,
   "metadata": {},
   "outputs": [],
   "source": [
    "idx_train_1fold = folds[\"train_idxs\"][0]"
   ]
  },
  {
   "cell_type": "code",
   "execution_count": 12,
   "metadata": {},
   "outputs": [
    {
     "name": "stderr",
     "output_type": "stream",
     "text": [
      "c:\\Users\\Legers\\kfolds_splits\\env_kfolds\\lib\\site-packages\\sklearn\\model_selection\\_split.py:776: UserWarning: The least populated class in y has only 1 members, which is less than n_splits=5.\n",
      "  warnings.warn(\n"
     ]
    }
   ],
   "source": [
    "skf = StratifiedKFold(n_splits=5, shuffle=True, random_state=0)\n",
    "skf.get_n_splits(full_idxs[idx_train_1fold],full_z_class[idx_train_1fold])\n",
    "\n",
    "\n",
    "train_idxs_sub = []\n",
    "test_idxs_sub =[]\n",
    "\n",
    "for i, (train_index, test_index) in enumerate(skf.split(full_idxs[idx_train_1fold], full_z_class[idx_train_1fold])):\n",
    "    train_idxs_sub.append(full_idxs[idx_train_1fold][train_index])\n",
    "    test_idxs_sub.append(full_idxs[idx_train_1fold][test_index])\n",
    "\n",
    "    #print(f\"Fold {i}:\")\n",
    "    #print(f\"  Train: index={train_index}\")\n",
    "    #print(f\"  Test:  index={test_index}\")"
   ]
  },
  {
   "cell_type": "code",
   "execution_count": 13,
   "metadata": {},
   "outputs": [],
   "source": [
    "dictado ={}\n",
    "\n",
    "dictado[\"train_idxs\"]  =train_idxs_sub\n",
    "dictado[\"test_idxs\"]  =test_idxs_sub\n",
    "\n",
    "np.save(\"first_kfolds_idxs_ps1.npy\", dictado)"
   ]
  },
  {
   "cell_type": "markdown",
   "metadata": {},
   "source": [
    "### Generacion de datasets"
   ]
  },
  {
   "cell_type": "code",
   "execution_count": 1,
   "metadata": {},
   "outputs": [],
   "source": [
    "import numpy as np\n",
    "import pandas as pd\n",
    "\n",
    "last_folds = np.load(\"last_kfolds_idxs.npy\",allow_pickle=True).item()\n",
    "#first_folds = np.load(\"first_kfolds_idxs.npy\",allow_pickle=True).item()\n",
    "\n",
    "#last_folds = np.load(\"last_kfolds_idxs_ps1.npy\",allow_pickle=True).item()\n",
    "#first_folds = np.load(\"first_kfolds_idxs_ps1.npy\",allow_pickle=True).item()"
   ]
  },
  {
   "cell_type": "code",
   "execution_count": 2,
   "metadata": {},
   "outputs": [],
   "source": [
    "def save_dataset(name_dataset,nlevels, unique=False):\n",
    "    \n",
    "    data = np.load(f\"datasets\\{name_dataset}.npz\", allow_pickle=True)\n",
    "    imgs_data = data[\"imgs\"]\n",
    "    meta_data = data[\"metadata\"].item()\n",
    "    del data\n",
    "\n",
    "    levels = ''.join(str(i) for i in range(1, nlevels + 1))\n",
    "\n",
    "    if unique:\n",
    "        np.savez(f'{name_dataset}_n{nlevels}.npz', imgs = imgs_data[:,nlevels-1,:,:,:], metadata = meta_data)\n",
    "\n",
    "    else:\n",
    "        np.savez(f'{name_dataset}_n{levels}.npz', imgs = imgs_data[:,0:nlevels,:,:,:], metadata = meta_data)\n",
    "\n",
    "    print(\"Finalizado\")"
   ]
  },
  {
   "cell_type": "code",
   "execution_count": 3,
   "metadata": {},
   "outputs": [
    {
     "name": "stdout",
     "output_type": "stream",
     "text": [
      "Finalizado\n",
      "Finalizado\n",
      "Finalizado\n"
     ]
    }
   ],
   "source": [
    "save_dataset(\"h2f_multiresolution_train\",5, unique=True)\n",
    "save_dataset(\"h2f_multiresolution_val\",5, unique=True)\n",
    "save_dataset(\"h2f_multiresolution_test\",5, unique=True)"
   ]
  },
  {
   "cell_type": "code",
   "execution_count": null,
   "metadata": {},
   "outputs": [],
   "source": [
    "def save_kfolds(train_name,val_name,test_name, diccionario, type_kfold):\n",
    "    \n",
    "    train = np.load(f\"datasets\\{train_name}.npz\", allow_pickle=True)\n",
    "    imgs_train = train[\"imgs\"]\n",
    "    meta_train = train[\"metadata\"]\n",
    "    del train\n",
    "    print(\"Set de Entrenamiento Cargado\")\n",
    "\n",
    "    val = np.load(f\"datasets\\{val_name}.npz\", allow_pickle=True)\n",
    "    imgs_val = val[\"imgs\"]\n",
    "    meta_val = val[\"metadata\"]\n",
    "    del val\n",
    "    print(\"Set de Validacion Cargado\")\n",
    "\n",
    "    test = np.load(f\"datasets\\{test_name}.npz\", allow_pickle=True)\n",
    "    imgs_test = test[\"imgs\"]\n",
    "    meta_test = test[\"metadata\"]\n",
    "    del test\n",
    "    print(\"Set de Test Cargado\")\n",
    "\n",
    "    full_imgs = np.concatenate([imgs_train, imgs_val, imgs_test])\n",
    "    del imgs_train, imgs_val, imgs_test\n",
    "    print(\"Concatenacion de imagenes lista\")\n",
    "\n",
    "    df_train = pd.DataFrame(meta_train.item())\n",
    "    df_val = pd.DataFrame(meta_val.item())\n",
    "    df_test = pd.DataFrame(meta_test.item())\n",
    "\n",
    "    full_meta = pd.concat((df_train,df_val,df_test)).reset_index(drop=True)\n",
    "    del df_train, df_val, df_test\n",
    "    print(\"Concatenacion de metadata lista\\n\")\n",
    "\n",
    "    print(\"Descargando KFolds\")\n",
    "    for nfold in range(5):\n",
    "\n",
    "        train_idxs = diccionario[\"train_idxs\"][nfold]\n",
    "        test_idxs = diccionario[\"test_idxs\"][nfold]\n",
    "\n",
    "        np.savez(f'D:\\datasets_kfolds\\{train_name}_{type_kfold}_kfold{nfold+1}.npz', imgs = full_imgs[train_idxs], metadata = dict(full_meta.iloc[train_idxs]))\n",
    "        np.savez(f'D:\\datasets_kfolds\\{test_name}_{type_kfold}_kfold{nfold+1}.npz', imgs = full_imgs[test_idxs], metadata = dict(full_meta.iloc[test_idxs]))\n",
    "\n",
    "        print(f\"KFold N°{nfold+1} completado\")\n",
    "\n",
    "    print(\"Finalizado\")"
   ]
  },
  {
   "cell_type": "code",
   "execution_count": 3,
   "metadata": {},
   "outputs": [
    {
     "name": "stdout",
     "output_type": "stream",
     "text": [
      "Set de Entrenamiento Cargado\n",
      "Set de Validacion Cargado\n",
      "Set de Test Cargado\n",
      "Concatenacion de imagenes lista\n",
      "Concatenacion de metadata lista\n",
      "\n",
      "Descargando KFolds\n",
      "KFold N°1 completado\n",
      "Finalizado\n"
     ]
    }
   ],
   "source": [
    "save_kfolds(\"h2f_multiresolution_train\",\n",
    "            \"h2f_multiresolution_val\",\n",
    "            \"h2f_multiresolution_test\",\n",
    "            last_folds,\n",
    "            \"last\")"
   ]
  }
 ],
 "metadata": {
  "kernelspec": {
   "display_name": "env_cross",
   "language": "python",
   "name": "python3"
  },
  "language_info": {
   "codemirror_mode": {
    "name": "ipython",
    "version": 3
   },
   "file_extension": ".py",
   "mimetype": "text/x-python",
   "name": "python",
   "nbconvert_exporter": "python",
   "pygments_lexer": "ipython3",
   "version": "3.10.11"
  }
 },
 "nbformat": 4,
 "nbformat_minor": 2
}
