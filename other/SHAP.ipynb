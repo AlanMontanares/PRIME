{
 "cells": [
  {
   "cell_type": "code",
   "execution_count": 1,
   "metadata": {},
   "outputs": [
    {
     "name": "stderr",
     "output_type": "stream",
     "text": [
      "c:\\Users\\Legers\\cross_validation\\env_cv\\lib\\site-packages\\tqdm\\auto.py:21: TqdmWarning: IProgress not found. Please update jupyter and ipywidgets. See https://ipywidgets.readthedocs.io/en/stable/user_install.html\n",
      "  from .autonotebook import tqdm as notebook_tqdm\n"
     ]
    }
   ],
   "source": [
    "from datasets import *\n",
    "from model_prime import *\n",
    "from model_prime_sw import *\n",
    "\n",
    "import pandas as pd\n",
    "import matplotlib.pyplot as plt\n",
    "import shap"
   ]
  },
  {
   "cell_type": "code",
   "execution_count": 2,
   "metadata": {},
   "outputs": [
    {
     "name": "stderr",
     "output_type": "stream",
     "text": [
      "Seed set to 0\n"
     ]
    }
   ],
   "source": [
    "seed = 0\n",
    "L.seed_everything(seed, workers=True)\n",
    "\n",
    "torch.backends.cudnn.deterministic = True\n",
    "torch.backends.cudnn.benchmark = False\n",
    "torch.set_float32_matmul_precision(\"medium\")"
   ]
  },
  {
   "cell_type": "code",
   "execution_count": 3,
   "metadata": {},
   "outputs": [],
   "source": [
    "range_z = np.linspace(0, 0.4, 181)[:-1]\n",
    "\n",
    "test = np.load(\"datasets\\h2f_multiresolution_test_last_kfold1.npz\", allow_pickle=True)\n",
    "\n",
    "imgs_test = torch.tensor(test[\"imgs\"]).float()\n",
    "z_test_class = torch.tensor(np.digitize(test[\"metadata\"].item()[\"z\"].values,range_z)-1).long()\n",
    "ebv_test = torch.tensor(test[\"metadata\"].item()[\"EBV\"].values).unsqueeze(1).float()"
   ]
  },
  {
   "cell_type": "markdown",
   "metadata": {},
   "source": [
    "### Nuevos modelos"
   ]
  },
  {
   "cell_type": "code",
   "execution_count": 4,
   "metadata": {},
   "outputs": [],
   "source": [
    "class PRIMESW(L.LightningModule):\n",
    "\n",
    "    def __init__(self, config):\n",
    "        super(PRIMESW, self).__init__()\n",
    "\n",
    "        self.convs = nn.Sequential(\n",
    "                                nn.Conv2d(config[\"in_channels\"], 64, kernel_size=5, padding=\"same\"),\n",
    "                                nn.PReLU(num_parameters=64, init=0.0),\n",
    "                                nn.AvgPool2d(kernel_size=2, stride=2, padding=0),\n",
    "\n",
    "                                InceptionBlock(64,nbS1=48, nbS2=64, with_kernel_5=True),\n",
    "                                InceptionBlock(240,nbS1=64, nbS2=92, with_kernel_5=True),\n",
    "                                nn.AvgPool2d(kernel_size=2, stride=2, padding=0),\n",
    "\n",
    "                                InceptionBlock(340,nbS1=92, nbS2=128, with_kernel_5=True),\n",
    "                                InceptionBlock(476,nbS1=92, nbS2=128, with_kernel_5=True),\n",
    "                                nn.AvgPool2d(kernel_size=2, stride=2, padding=0),\n",
    "\n",
    "                                InceptionBlock(476,nbS1=92, nbS2=128, with_kernel_5=False),\n",
    "                                nn.Flatten()\n",
    "                                )\n",
    "        \n",
    "        self.linear_net = nn.Sequential(\n",
    "                                nn.Linear(int(((config[\"img_size\"]/8)**2)*348)*config[\"in_levels\"] +1, 1096),\n",
    "                                nn.ReLU(),\n",
    "                                nn.Linear(1096, 1096),\n",
    "                                nn.ReLU(),\n",
    "                                nn.Linear(1096, 180)\n",
    "                                )\n",
    "                                \n",
    "        \n",
    "        if config[\"loss\"] == \"ce\":\n",
    "            self.loss = nn.CrossEntropyLoss()\n",
    "\n",
    "        self.lr = config[\"lr\"]\n",
    "        self.in_levels= config[\"in_levels\"]\n",
    "\n",
    "        self.training_predictions = []\n",
    "        self.training_classes = []\n",
    "\n",
    "        self.val_predictions = []\n",
    "        self.val_classes = []\n",
    "\n",
    "        self.curves = {\n",
    "                        \"train_loss\": [],\n",
    "                        \"val_loss\": [],\n",
    "                    }\n",
    "        \n",
    "        self.config = config\n",
    "        self.save_hyperparameters(config)\n",
    "\n",
    "                \n",
    "    def forward(self, x, ebv):\n",
    "\n",
    "        x = torch.cat([self.convs(x[:,i,:,:,:]) for i in range(self.in_levels)] + [ebv], dim=1)\n",
    "\n",
    "        output = self.linear_net(x)\n",
    "        return output,x\n",
    "    \n",
    "    def training_step(self, batch, batch_idx):\n",
    "        x,ebv,y_class = batch\n",
    "        x_hat,_ = self.forward(x,ebv)\n",
    "        train_loss = self.loss(x_hat, y_class)\n",
    "\n",
    "        self.training_predictions.append(x_hat.detach().cpu())\n",
    "        self.training_classes.append(y_class.cpu())\n",
    "        \n",
    "        self.log(\"train_loss\", train_loss, prog_bar=True)\n",
    "        return train_loss\n",
    "\n",
    "    def validation_step(self, batch, batch_idx):\n",
    "\n",
    "        x,ebv,y_class = batch\n",
    "        x_hat,_ = self.forward(x,ebv)\n",
    "        val_loss = self.loss(x_hat, y_class)\n",
    "\n",
    "        self.val_predictions.append(x_hat.cpu())\n",
    "        self.val_classes.append(y_class.cpu())\n",
    "\n",
    "        self.log(\"val_loss\", val_loss, prog_bar=True)\n",
    "        \n",
    "        return val_loss\n",
    "    \n",
    "    def on_train_epoch_end(self):\n",
    "\n",
    "        predictions = torch.cat(self.training_predictions, dim=0)\n",
    "        classes = torch.cat(self.training_classes, dim=0)\n",
    "\n",
    "        self.curves[\"train_loss\"].append(self.loss(predictions, classes))\n",
    "\n",
    "        self.training_predictions.clear() \n",
    "        self.training_classes.clear()  \n",
    "\n",
    "    def on_validation_epoch_end(self):\n",
    "\n",
    "        predictions = torch.cat(self.val_predictions, dim=0)\n",
    "        classes = torch.cat(self.val_classes, dim=0)\n",
    "\n",
    "        self.curves[\"val_loss\"].append(self.loss(predictions, classes))\n",
    "\n",
    "        self.val_predictions.clear() \n",
    "        self.val_classes.clear() \n",
    "\n",
    "    def predict_step(self, batch):\n",
    "        x,ebv,_ = batch    \n",
    "        return self(x,ebv)[1]\n",
    "    \n",
    "    def configure_optimizers(self):\n",
    "        optimizer = optim.Adam(self.parameters(), lr=self.lr)\n",
    "        scheduler = torch.optim.lr_scheduler.CosineAnnealingLR(optimizer, T_max=40, eta_min=0.0, last_epoch=-1)\n",
    "\n",
    "        return [optimizer], [scheduler]"
   ]
  },
  {
   "cell_type": "code",
   "execution_count": 5,
   "metadata": {},
   "outputs": [],
   "source": [
    "class PRIME_noSW(L.LightningModule):\n",
    "\n",
    "    def __init__(self, config):\n",
    "        super(PRIME_noSW, self).__init__()\n",
    "\n",
    "        self.convs1 = nn.Sequential(\n",
    "                                nn.Conv2d(config[\"in_channels\"], 64, kernel_size=5, padding=\"same\"),\n",
    "                                nn.PReLU(num_parameters=64, init=0.0),\n",
    "                                nn.AvgPool2d(kernel_size=2, stride=2, padding=0),\n",
    "\n",
    "                                InceptionBlock(64,nbS1=48, nbS2=64, with_kernel_5=True),\n",
    "                                InceptionBlock(240,nbS1=64, nbS2=92, with_kernel_5=True),\n",
    "                                nn.AvgPool2d(kernel_size=2, stride=2, padding=0),\n",
    "\n",
    "                                InceptionBlock(340,nbS1=92, nbS2=128, with_kernel_5=True),\n",
    "                                InceptionBlock(476,nbS1=92, nbS2=128, with_kernel_5=True),\n",
    "                                nn.AvgPool2d(kernel_size=2, stride=2, padding=0),\n",
    "\n",
    "                                InceptionBlock(476,nbS1=92, nbS2=128, with_kernel_5=False),\n",
    "                                nn.Flatten()\n",
    "                                )\n",
    "        \n",
    "    \n",
    "        self.convs2 = nn.Sequential(\n",
    "                                nn.Conv2d(config[\"in_channels\"], 64, kernel_size=5, padding=\"same\"),\n",
    "                                nn.PReLU(num_parameters=64, init=0.0),\n",
    "                                nn.AvgPool2d(kernel_size=2, stride=2, padding=0),\n",
    "\n",
    "                                InceptionBlock(64,nbS1=48, nbS2=64, with_kernel_5=True),\n",
    "                                InceptionBlock(240,nbS1=64, nbS2=92, with_kernel_5=True),\n",
    "                                nn.AvgPool2d(kernel_size=2, stride=2, padding=0),\n",
    "\n",
    "                                InceptionBlock(340,nbS1=92, nbS2=128, with_kernel_5=True),\n",
    "                                InceptionBlock(476,nbS1=92, nbS2=128, with_kernel_5=True),\n",
    "                                nn.AvgPool2d(kernel_size=2, stride=2, padding=0),\n",
    "\n",
    "                                InceptionBlock(476,nbS1=92, nbS2=128, with_kernel_5=False),\n",
    "                                nn.Flatten()\n",
    "                                )\n",
    "\n",
    "\n",
    "        self.convs3 = nn.Sequential(\n",
    "                                nn.Conv2d(config[\"in_channels\"], 64, kernel_size=5, padding=\"same\"),\n",
    "                                nn.PReLU(num_parameters=64, init=0.0),\n",
    "                                nn.AvgPool2d(kernel_size=2, stride=2, padding=0),\n",
    "\n",
    "                                InceptionBlock(64,nbS1=48, nbS2=64, with_kernel_5=True),\n",
    "                                InceptionBlock(240,nbS1=64, nbS2=92, with_kernel_5=True),\n",
    "                                nn.AvgPool2d(kernel_size=2, stride=2, padding=0),\n",
    "\n",
    "                                InceptionBlock(340,nbS1=92, nbS2=128, with_kernel_5=True),\n",
    "                                InceptionBlock(476,nbS1=92, nbS2=128, with_kernel_5=True),\n",
    "                                nn.AvgPool2d(kernel_size=2, stride=2, padding=0),\n",
    "\n",
    "                                InceptionBlock(476,nbS1=92, nbS2=128, with_kernel_5=False),\n",
    "                                nn.Flatten()\n",
    "                                )\n",
    "    \n",
    "        self.convs4 = nn.Sequential(\n",
    "                                nn.Conv2d(config[\"in_channels\"], 64, kernel_size=5, padding=\"same\"),\n",
    "                                nn.PReLU(num_parameters=64, init=0.0),\n",
    "                                nn.AvgPool2d(kernel_size=2, stride=2, padding=0),\n",
    "\n",
    "                                InceptionBlock(64,nbS1=48, nbS2=64, with_kernel_5=True),\n",
    "                                InceptionBlock(240,nbS1=64, nbS2=92, with_kernel_5=True),\n",
    "                                nn.AvgPool2d(kernel_size=2, stride=2, padding=0),\n",
    "\n",
    "                                InceptionBlock(340,nbS1=92, nbS2=128, with_kernel_5=True),\n",
    "                                InceptionBlock(476,nbS1=92, nbS2=128, with_kernel_5=True),\n",
    "                                nn.AvgPool2d(kernel_size=2, stride=2, padding=0),\n",
    "\n",
    "                                InceptionBlock(476,nbS1=92, nbS2=128, with_kernel_5=False),\n",
    "                                nn.Flatten()\n",
    "                                )\n",
    "    \n",
    "        self.convs5 = nn.Sequential(\n",
    "                                nn.Conv2d(config[\"in_channels\"], 64, kernel_size=5, padding=\"same\"),\n",
    "                                nn.PReLU(num_parameters=64, init=0.0),\n",
    "                                nn.AvgPool2d(kernel_size=2, stride=2, padding=0),\n",
    "\n",
    "                                InceptionBlock(64,nbS1=48, nbS2=64, with_kernel_5=True),\n",
    "                                InceptionBlock(240,nbS1=64, nbS2=92, with_kernel_5=True),\n",
    "                                nn.AvgPool2d(kernel_size=2, stride=2, padding=0),\n",
    "\n",
    "                                InceptionBlock(340,nbS1=92, nbS2=128, with_kernel_5=True),\n",
    "                                InceptionBlock(476,nbS1=92, nbS2=128, with_kernel_5=True),\n",
    "                                nn.AvgPool2d(kernel_size=2, stride=2, padding=0),\n",
    "\n",
    "                                InceptionBlock(476,nbS1=92, nbS2=128, with_kernel_5=False),\n",
    "                                nn.Flatten()\n",
    "                                )\n",
    "        \n",
    "        self.linear_net = nn.Sequential(\n",
    "                                nn.Linear(int(((config[\"img_size\"]/8)**2)*348)*config[\"in_levels\"] +1, 1096),\n",
    "                                nn.ReLU(),\n",
    "                                nn.Linear(1096, 1096),\n",
    "                                nn.ReLU(),\n",
    "                                nn.Linear(1096, 180)\n",
    "                                )\n",
    "                                        \n",
    "        if config[\"loss\"] == \"ce\":\n",
    "            self.loss = nn.CrossEntropyLoss()\n",
    "\n",
    "        self.lr = config[\"lr\"]\n",
    "        self.in_levels= config[\"in_levels\"]\n",
    "\n",
    "        self.training_predictions = []\n",
    "        self.training_classes = []\n",
    "\n",
    "        self.val_predictions = []\n",
    "        self.val_classes = []\n",
    "\n",
    "        self.curves = {\n",
    "                        \"train_loss\": [],\n",
    "                        \"val_loss\": [],\n",
    "                    }\n",
    "        \n",
    "        self.config = config\n",
    "        self.save_hyperparameters(config)\n",
    "                \n",
    "    def forward(self, x, ebv):\n",
    "        x1 = self.convs1(x[:,0,:,:,:])\n",
    "        x2 = self.convs2(x[:,1,:,:,:])\n",
    "        x3 = self.convs3(x[:,2,:,:,:])\n",
    "        x4 = self.convs4(x[:,3,:,:,:])\n",
    "        x5 = self.convs5(x[:,4,:,:,:])\n",
    "\n",
    "        x = torch.cat([x1,x2,x3,x4,x5,ebv], dim=1)\n",
    "        \n",
    "        output = self.linear_net(x)\n",
    "        return output,x\n",
    "    \n",
    "    def training_step(self, batch, batch_idx):\n",
    "        x,ebv,y_class = batch\n",
    "        x_hat,_ = self.forward(x,ebv)\n",
    "        train_loss = self.loss(x_hat, y_class)\n",
    "\n",
    "        self.training_predictions.append(x_hat.detach().cpu())\n",
    "        self.training_classes.append(y_class.cpu())\n",
    "        \n",
    "        self.log(\"train_loss\", train_loss, prog_bar=True)\n",
    "        return train_loss\n",
    "\n",
    "    def validation_step(self, batch, batch_idx):\n",
    "\n",
    "        x,ebv,y_class = batch\n",
    "        x_hat,_ = self.forward(x,ebv)\n",
    "        val_loss = self.loss(x_hat, y_class)\n",
    "\n",
    "        self.val_predictions.append(x_hat.cpu())\n",
    "        self.val_classes.append(y_class.cpu())\n",
    "\n",
    "        self.log(\"val_loss\", val_loss, prog_bar=True)\n",
    "        \n",
    "        return val_loss\n",
    "    \n",
    "    def on_train_epoch_end(self):\n",
    "\n",
    "        predictions = torch.cat(self.training_predictions, dim=0)\n",
    "        classes = torch.cat(self.training_classes, dim=0)\n",
    "\n",
    "        self.curves[\"train_loss\"].append(self.loss(predictions, classes))\n",
    "\n",
    "        self.training_predictions.clear() \n",
    "        self.training_classes.clear()  \n",
    "\n",
    "    def on_validation_epoch_end(self):\n",
    "\n",
    "        predictions = torch.cat(self.val_predictions, dim=0)\n",
    "        classes = torch.cat(self.val_classes, dim=0)\n",
    "\n",
    "        self.curves[\"val_loss\"].append(self.loss(predictions, classes))\n",
    "\n",
    "        self.val_predictions.clear() \n",
    "        self.val_classes.clear() \n",
    "\n",
    "    def predict_step(self, batch):\n",
    "        x,ebv,_ = batch    \n",
    "        return self(x,ebv)[1]\n",
    "    \n",
    "    def configure_optimizers(self):\n",
    "        optimizer = optim.Adam(self.parameters(), lr=self.lr)\n",
    "        scheduler = torch.optim.lr_scheduler.CosineAnnealingLR(optimizer, T_max=40, eta_min=0.0, last_epoch=-1)\n",
    "\n",
    "        return [optimizer], [scheduler]"
   ]
  },
  {
   "cell_type": "markdown",
   "metadata": {},
   "source": [
    "### Predicciones"
   ]
  },
  {
   "cell_type": "code",
   "execution_count": 6,
   "metadata": {},
   "outputs": [
    {
     "name": "stderr",
     "output_type": "stream",
     "text": [
      "GPU available: True (cuda), used: True\n",
      "TPU available: False, using: 0 TPU cores\n",
      "IPU available: False, using: 0 IPUs\n",
      "HPU available: False, using: 0 HPUs\n"
     ]
    }
   ],
   "source": [
    "model_SW = PRIMESW.load_from_checkpoint(\"resultados\\prime_12345\\cv/fold1\\last.ckpt\")\n",
    "model_NOSW = PRIME_noSW.load_from_checkpoint(\"resultados\\prime_12345_sw\\cv/fold1\\last.ckpt\")\n",
    "\n",
    "batch_size=128\n",
    "num_workers=4\n",
    "\n",
    "dm = GalaxyDataModule(imgs_train=imgs_test,\n",
    "            imgs_test=imgs_test,\n",
    "            z_train_class=z_test_class,\n",
    "            z_test_class=z_test_class,\n",
    "            ebv_train=ebv_test,\n",
    "            ebv_test=ebv_test,\n",
    "            batch_size=batch_size,\n",
    "            seed=seed,\n",
    "            num_workers=num_workers\n",
    "            )\n",
    "\n",
    "trainer = L.Trainer(\n",
    "                num_sanity_val_steps=0,\n",
    "                logger=False,\n",
    "                deterministic=True,\n",
    "                max_epochs=40,\n",
    "                accelerator =\"gpu\",\n",
    "                devices = \"auto\")"
   ]
  },
  {
   "cell_type": "code",
   "execution_count": 7,
   "metadata": {},
   "outputs": [
    {
     "name": "stderr",
     "output_type": "stream",
     "text": [
      "LOCAL_RANK: 0 - CUDA_VISIBLE_DEVICES: [0]\n"
     ]
    },
    {
     "name": "stdout",
     "output_type": "stream",
     "text": [
      "Predicting DataLoader 0: 100%|██████████| 808/808 [00:59<00:00, 13.54it/s]\n"
     ]
    },
    {
     "name": "stderr",
     "output_type": "stream",
     "text": [
      "LOCAL_RANK: 0 - CUDA_VISIBLE_DEVICES: [0]\n"
     ]
    },
    {
     "name": "stdout",
     "output_type": "stream",
     "text": [
      "Predicting DataLoader 0: 100%|██████████| 808/808 [01:17<00:00, 10.47it/s]\n"
     ]
    }
   ],
   "source": [
    "pred_sw =torch.cat(trainer.predict(model=model_SW, datamodule =dm), dim=0)\n",
    "pred_nosw =torch.cat(trainer.predict(model=model_NOSW, datamodule =dm), dim=0)"
   ]
  },
  {
   "cell_type": "markdown",
   "metadata": {},
   "source": [
    "### MLP"
   ]
  },
  {
   "cell_type": "code",
   "execution_count": 11,
   "metadata": {},
   "outputs": [],
   "source": [
    "class MLP_SW(L.LightningModule):\n",
    "    def __init__(self):\n",
    "        super(MLP_SW, self).__init__()\n",
    "        self.model = model_SW.linear_net\n",
    "        self.soft = nn.Softmax()\n",
    "\n",
    "    def forward(self, x):\n",
    "        return self.soft(self.model(x))"
   ]
  },
  {
   "cell_type": "code",
   "execution_count": 12,
   "metadata": {},
   "outputs": [],
   "source": [
    "class MLP_noSW(L.LightningModule):\n",
    "    def __init__(self):\n",
    "        super(MLP_noSW, self).__init__()\n",
    "        self.model = model_NOSW.linear_net\n",
    "        self.soft = nn.Softmax()\n",
    "\n",
    "    def forward(self, x):\n",
    "        return self.soft(self.model(x))"
   ]
  },
  {
   "cell_type": "markdown",
   "metadata": {},
   "source": [
    "### SHAP"
   ]
  },
  {
   "cell_type": "code",
   "execution_count": 13,
   "metadata": {},
   "outputs": [],
   "source": [
    "mlp_sw = MLP_SW()\n",
    "mlp_nosw = MLP_noSW()"
   ]
  },
  {
   "cell_type": "code",
   "execution_count": 17,
   "metadata": {},
   "outputs": [
    {
     "data": {
      "text/plain": [
       "93474"
      ]
     },
     "execution_count": 17,
     "metadata": {},
     "output_type": "execute_result"
    }
   ],
   "source": [
    "mask = test[\"metadata\"].item()[\"petroR90_r\"].values<10\n",
    "mask.sum()"
   ]
  },
  {
   "cell_type": "code",
   "execution_count": 16,
   "metadata": {},
   "outputs": [],
   "source": [
    "ejemplos_sw = pred_sw[mask][:10]\n",
    "ejemplos_nosw = pred_nosw[mask][:10]"
   ]
  },
  {
   "cell_type": "code",
   "execution_count": 18,
   "metadata": {},
   "outputs": [
    {
     "name": "stderr",
     "output_type": "stream",
     "text": [
      "c:\\Users\\Legers\\cross_validation\\env_cv\\lib\\site-packages\\torch\\nn\\modules\\module.py:1511: UserWarning: Implicit dimension choice for softmax has been deprecated. Change the call to include dim=X as an argument.\n",
      "  return self._call_impl(*args, **kwargs)\n"
     ]
    }
   ],
   "source": [
    "explainer_sw = shap.DeepExplainer(mlp_sw, ejemplos_sw)\n",
    "explainer_nosw = shap.DeepExplainer(mlp_nosw, ejemplos_nosw)"
   ]
  },
  {
   "cell_type": "code",
   "execution_count": 19,
   "metadata": {},
   "outputs": [],
   "source": [
    "shap_values_sw = explainer_sw.shap_values(ejemplos_sw)\n",
    "shap_values_nosw = explainer_nosw.shap_values(ejemplos_nosw)"
   ]
  },
  {
   "cell_type": "code",
   "execution_count": 20,
   "metadata": {},
   "outputs": [],
   "source": [
    "importancia_sw = np.abs(shap_values_sw).mean(0).sum(1)\n",
    "importancia_nosw = np.abs(shap_values_nosw).mean(0).sum(1)"
   ]
  },
  {
   "cell_type": "code",
   "execution_count": 21,
   "metadata": {},
   "outputs": [
    {
     "name": "stdout",
     "output_type": "stream",
     "text": [
      "0.41866 0.44983\n",
      "0.23995 0.15396\n",
      "0.13759 0.17478\n",
      "0.10191 0.16278\n",
      "0.10189 0.05865\n"
     ]
    }
   ],
   "source": [
    "mean_all_sw  =0\n",
    "mean_all_nosw  =0\n",
    "\n",
    "for i in range(5):\n",
    "    mean_all_sw+= importancia_sw[:-1][i*5568:(i+1)*5568].mean()\n",
    "    mean_all_nosw+= importancia_nosw[:-1][i*5568:(i+1)*5568].mean()\n",
    "\n",
    "for i in range(5):\n",
    "    print(round(importancia_sw[:-1][i*5568:(i+1)*5568].mean()/mean_all_sw,5),  round(importancia_nosw[:-1][i*5568:(i+1)*5568].mean()/mean_all_nosw,5))"
   ]
  },
  {
   "cell_type": "code",
   "execution_count": 22,
   "metadata": {},
   "outputs": [
    {
     "name": "stdout",
     "output_type": "stream",
     "text": [
      "0.41866 0.44983\n",
      "0.23995 0.15396\n",
      "0.13759 0.17478\n",
      "0.10191 0.16278\n",
      "0.10189 0.05865\n"
     ]
    }
   ],
   "source": [
    "mean_all_sw  =0\n",
    "mean_all_nosw  =0\n",
    "\n",
    "for i in range(5):\n",
    "    mean_all_sw+= importancia_sw[:-1][i*5568:(i+1)*5568].mean()\n",
    "    mean_all_nosw+= importancia_nosw[:-1][i*5568:(i+1)*5568].mean()\n",
    "\n",
    "for i in range(5):\n",
    "    print(round(importancia_sw[:-1][i*5568:(i+1)*5568].mean()/mean_all_sw,5),  round(importancia_nosw[:-1][i*5568:(i+1)*5568].mean()/mean_all_nosw,5))"
   ]
  },
  {
   "cell_type": "code",
   "execution_count": 24,
   "metadata": {},
   "outputs": [
    {
     "data": {
      "image/png": "[encoded data removed]",
      "text/plain": [
       "<Figure size 1000x500 with 1 Axes>"
      ]
     },
     "metadata": {},
     "output_type": "display_data"
    }
   ],
   "source": [
    "# Crear la figura y el eje\n",
    "fig, axs = plt.subplots(1, 1, figsize=(10, 5))\n",
    "axs.plot(np.arange(27841)[:-1], importancia_sw[:-1], linewidth=1, color=\"purple\")\n",
    "axs.set_ylim([0, 0.03])\n",
    "\n",
    "# Añadir líneas verticales y etiquetas de nivel\n",
    "for n in range(6):\n",
    "    x_pos = 5568 * n\n",
    "    if n!=0:\n",
    "        axs.text(x_pos - 2784, 0.025, f'|---------Nivel {6-n}---------|', rotation=0, verticalalignment='center', horizontalalignment='center', fontsize=10,color=\"red\")\n",
    "    axs.plot([x_pos, x_pos], [0, 0.0255], color='red', linestyle='-', linewidth=2)\n",
    "\n",
    "axs.set_ylabel(\"Mean(|shap values|)\")\n",
    "\n",
    "axs.set_xlabel(\"Características\")\n",
    "plt.show()"
   ]
  },
  {
   "cell_type": "code",
   "execution_count": 78,
   "metadata": {},
   "outputs": [
    {
     "data": {
      "image/png": "[encoded data removed]",
      "text/plain": [
       "<Figure size 1000x500 with 1 Axes>"
      ]
     },
     "metadata": {},
     "output_type": "display_data"
    }
   ],
   "source": [
    "# Crear la figura y el eje\n",
    "fig, axs = plt.subplots(1, 1, figsize=(10, 5))\n",
    "axs.plot(np.arange(27841)[:-1], importancia_nosw[:-1], linewidth=1, color=\"purple\")\n",
    "axs.set_ylim([0, 0.03])\n",
    "\n",
    "# Añadir líneas verticales y etiquetas de nivel\n",
    "for n in range(6):\n",
    "    x_pos = 5568 * n\n",
    "    if n!=0:\n",
    "        axs.text(x_pos - 2784, 0.025, f'|---------Nivel {6-n}---------|', rotation=0, verticalalignment='center', horizontalalignment='center', fontsize=10,color=\"red\")\n",
    "    axs.plot([x_pos, x_pos], [0, 0.0255], color='red', linestyle='-', linewidth=2)\n",
    "\n",
    "axs.set_ylabel(\"Mean(|shap values|)\")\n",
    "\n",
    "axs.set_xlabel(\"Características\")\n",
    "plt.show()"
   ]
  }
 ],
 "metadata": {
  "kernelspec": {
   "display_name": "env_cv",
   "language": "python",
   "name": "python3"
  },
  "language_info": {
   "codemirror_mode": {
    "name": "ipython",
    "version": 3
   },
   "file_extension": ".py",
   "mimetype": "text/x-python",
   "name": "python",
   "nbconvert_exporter": "python",
   "pygments_lexer": "ipython3",
   "version": "3.10.11"
  }
 },
 "nbformat": 4,
 "nbformat_minor": 2
}
